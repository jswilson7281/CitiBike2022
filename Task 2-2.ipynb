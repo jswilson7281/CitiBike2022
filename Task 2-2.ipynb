{
 "cells": [
  {
   "cell_type": "code",
   "execution_count": 1,
   "id": "bcab3416-f679-481f-9401-48d72b1acfc3",
   "metadata": {},
   "outputs": [],
   "source": [
    "import pandas as pd\n",
    "import numpy as np\n",
    "import os\n",
    "import requests\n",
    "import json\n",
    "from datetime import datetime"
   ]
  },
  {
   "cell_type": "code",
   "execution_count": 2,
   "id": "557ad44f-a25b-4c4b-85fb-0b9d64c7d652",
   "metadata": {},
   "outputs": [
    {
     "data": {
      "text/plain": [
       "'C:\\\\Users\\\\justi\\\\CitiBike2022'"
      ]
     },
     "execution_count": 2,
     "metadata": {},
     "output_type": "execute_result"
    }
   ],
   "source": [
    "os.getcwd()"
   ]
  },
  {
   "cell_type": "code",
   "execution_count": 3,
   "id": "66d484d8-6fbd-423a-bb15-ef653983eb68",
   "metadata": {},
   "outputs": [],
   "source": [
    "# Create a list with all files in the folder using a list comprehension\n",
    "\n",
    "folderpath = r\"Data\" # make sure to put the 'r' in front\n",
    "filepath = [os.path.join(folderpath, name) for name in os.listdir(folderpath)]"
   ]
  },
  {
   "cell_type": "code",
   "execution_count": 4,
   "id": "7f54c30b-ddeb-4037-b4c6-41234888d48b",
   "metadata": {},
   "outputs": [
    {
     "name": "stderr",
     "output_type": "stream",
     "text": [
      "C:\\Users\\justi\\AppData\\Local\\Temp\\ipykernel_12752\\2124188168.py:1: DtypeWarning: Columns (5,7) have mixed types. Specify dtype option on import or set low_memory=False.\n",
      "  df = pd.concat((pd.read_csv(f) for f in filepath), ignore_index = True)\n",
      "C:\\Users\\justi\\AppData\\Local\\Temp\\ipykernel_12752\\2124188168.py:1: DtypeWarning: Columns (5,7) have mixed types. Specify dtype option on import or set low_memory=False.\n",
      "  df = pd.concat((pd.read_csv(f) for f in filepath), ignore_index = True)\n",
      "C:\\Users\\justi\\AppData\\Local\\Temp\\ipykernel_12752\\2124188168.py:1: DtypeWarning: Columns (7) have mixed types. Specify dtype option on import or set low_memory=False.\n",
      "  df = pd.concat((pd.read_csv(f) for f in filepath), ignore_index = True)\n",
      "C:\\Users\\justi\\AppData\\Local\\Temp\\ipykernel_12752\\2124188168.py:1: DtypeWarning: Columns (5,7) have mixed types. Specify dtype option on import or set low_memory=False.\n",
      "  df = pd.concat((pd.read_csv(f) for f in filepath), ignore_index = True)\n",
      "C:\\Users\\justi\\AppData\\Local\\Temp\\ipykernel_12752\\2124188168.py:1: DtypeWarning: Columns (5,7) have mixed types. Specify dtype option on import or set low_memory=False.\n",
      "  df = pd.concat((pd.read_csv(f) for f in filepath), ignore_index = True)\n",
      "C:\\Users\\justi\\AppData\\Local\\Temp\\ipykernel_12752\\2124188168.py:1: DtypeWarning: Columns (5,7) have mixed types. Specify dtype option on import or set low_memory=False.\n",
      "  df = pd.concat((pd.read_csv(f) for f in filepath), ignore_index = True)\n",
      "C:\\Users\\justi\\AppData\\Local\\Temp\\ipykernel_12752\\2124188168.py:1: DtypeWarning: Columns (5,7) have mixed types. Specify dtype option on import or set low_memory=False.\n",
      "  df = pd.concat((pd.read_csv(f) for f in filepath), ignore_index = True)\n",
      "C:\\Users\\justi\\AppData\\Local\\Temp\\ipykernel_12752\\2124188168.py:1: DtypeWarning: Columns (5,7) have mixed types. Specify dtype option on import or set low_memory=False.\n",
      "  df = pd.concat((pd.read_csv(f) for f in filepath), ignore_index = True)\n",
      "C:\\Users\\justi\\AppData\\Local\\Temp\\ipykernel_12752\\2124188168.py:1: DtypeWarning: Columns (5,7) have mixed types. Specify dtype option on import or set low_memory=False.\n",
      "  df = pd.concat((pd.read_csv(f) for f in filepath), ignore_index = True)\n",
      "C:\\Users\\justi\\AppData\\Local\\Temp\\ipykernel_12752\\2124188168.py:1: DtypeWarning: Columns (5,7) have mixed types. Specify dtype option on import or set low_memory=False.\n",
      "  df = pd.concat((pd.read_csv(f) for f in filepath), ignore_index = True)\n",
      "C:\\Users\\justi\\AppData\\Local\\Temp\\ipykernel_12752\\2124188168.py:1: DtypeWarning: Columns (5,7) have mixed types. Specify dtype option on import or set low_memory=False.\n",
      "  df = pd.concat((pd.read_csv(f) for f in filepath), ignore_index = True)\n",
      "C:\\Users\\justi\\AppData\\Local\\Temp\\ipykernel_12752\\2124188168.py:1: DtypeWarning: Columns (5,7) have mixed types. Specify dtype option on import or set low_memory=False.\n",
      "  df = pd.concat((pd.read_csv(f) for f in filepath), ignore_index = True)\n",
      "C:\\Users\\justi\\AppData\\Local\\Temp\\ipykernel_12752\\2124188168.py:1: DtypeWarning: Columns (5,7) have mixed types. Specify dtype option on import or set low_memory=False.\n",
      "  df = pd.concat((pd.read_csv(f) for f in filepath), ignore_index = True)\n",
      "C:\\Users\\justi\\AppData\\Local\\Temp\\ipykernel_12752\\2124188168.py:1: DtypeWarning: Columns (5,7) have mixed types. Specify dtype option on import or set low_memory=False.\n",
      "  df = pd.concat((pd.read_csv(f) for f in filepath), ignore_index = True)\n",
      "C:\\Users\\justi\\AppData\\Local\\Temp\\ipykernel_12752\\2124188168.py:1: DtypeWarning: Columns (5,7) have mixed types. Specify dtype option on import or set low_memory=False.\n",
      "  df = pd.concat((pd.read_csv(f) for f in filepath), ignore_index = True)\n",
      "C:\\Users\\justi\\AppData\\Local\\Temp\\ipykernel_12752\\2124188168.py:1: DtypeWarning: Columns (5,7) have mixed types. Specify dtype option on import or set low_memory=False.\n",
      "  df = pd.concat((pd.read_csv(f) for f in filepath), ignore_index = True)\n",
      "C:\\Users\\justi\\AppData\\Local\\Temp\\ipykernel_12752\\2124188168.py:1: DtypeWarning: Columns (5,7) have mixed types. Specify dtype option on import or set low_memory=False.\n",
      "  df = pd.concat((pd.read_csv(f) for f in filepath), ignore_index = True)\n",
      "C:\\Users\\justi\\AppData\\Local\\Temp\\ipykernel_12752\\2124188168.py:1: DtypeWarning: Columns (5,7) have mixed types. Specify dtype option on import or set low_memory=False.\n",
      "  df = pd.concat((pd.read_csv(f) for f in filepath), ignore_index = True)\n",
      "C:\\Users\\justi\\AppData\\Local\\Temp\\ipykernel_12752\\2124188168.py:1: DtypeWarning: Columns (5,7) have mixed types. Specify dtype option on import or set low_memory=False.\n",
      "  df = pd.concat((pd.read_csv(f) for f in filepath), ignore_index = True)\n",
      "C:\\Users\\justi\\AppData\\Local\\Temp\\ipykernel_12752\\2124188168.py:1: DtypeWarning: Columns (5,7) have mixed types. Specify dtype option on import or set low_memory=False.\n",
      "  df = pd.concat((pd.read_csv(f) for f in filepath), ignore_index = True)\n",
      "C:\\Users\\justi\\AppData\\Local\\Temp\\ipykernel_12752\\2124188168.py:1: DtypeWarning: Columns (5,7) have mixed types. Specify dtype option on import or set low_memory=False.\n",
      "  df = pd.concat((pd.read_csv(f) for f in filepath), ignore_index = True)\n",
      "C:\\Users\\justi\\AppData\\Local\\Temp\\ipykernel_12752\\2124188168.py:1: DtypeWarning: Columns (5,7) have mixed types. Specify dtype option on import or set low_memory=False.\n",
      "  df = pd.concat((pd.read_csv(f) for f in filepath), ignore_index = True)\n",
      "C:\\Users\\justi\\AppData\\Local\\Temp\\ipykernel_12752\\2124188168.py:1: DtypeWarning: Columns (5,7) have mixed types. Specify dtype option on import or set low_memory=False.\n",
      "  df = pd.concat((pd.read_csv(f) for f in filepath), ignore_index = True)\n",
      "C:\\Users\\justi\\AppData\\Local\\Temp\\ipykernel_12752\\2124188168.py:1: DtypeWarning: Columns (5,7) have mixed types. Specify dtype option on import or set low_memory=False.\n",
      "  df = pd.concat((pd.read_csv(f) for f in filepath), ignore_index = True)\n",
      "C:\\Users\\justi\\AppData\\Local\\Temp\\ipykernel_12752\\2124188168.py:1: DtypeWarning: Columns (5,7) have mixed types. Specify dtype option on import or set low_memory=False.\n",
      "  df = pd.concat((pd.read_csv(f) for f in filepath), ignore_index = True)\n",
      "C:\\Users\\justi\\AppData\\Local\\Temp\\ipykernel_12752\\2124188168.py:1: DtypeWarning: Columns (5,7) have mixed types. Specify dtype option on import or set low_memory=False.\n",
      "  df = pd.concat((pd.read_csv(f) for f in filepath), ignore_index = True)\n",
      "C:\\Users\\justi\\AppData\\Local\\Temp\\ipykernel_12752\\2124188168.py:1: DtypeWarning: Columns (5,7) have mixed types. Specify dtype option on import or set low_memory=False.\n",
      "  df = pd.concat((pd.read_csv(f) for f in filepath), ignore_index = True)\n",
      "C:\\Users\\justi\\AppData\\Local\\Temp\\ipykernel_12752\\2124188168.py:1: DtypeWarning: Columns (5,7) have mixed types. Specify dtype option on import or set low_memory=False.\n",
      "  df = pd.concat((pd.read_csv(f) for f in filepath), ignore_index = True)\n",
      "C:\\Users\\justi\\AppData\\Local\\Temp\\ipykernel_12752\\2124188168.py:1: DtypeWarning: Columns (5,7) have mixed types. Specify dtype option on import or set low_memory=False.\n",
      "  df = pd.concat((pd.read_csv(f) for f in filepath), ignore_index = True)\n",
      "C:\\Users\\justi\\AppData\\Local\\Temp\\ipykernel_12752\\2124188168.py:1: DtypeWarning: Columns (5,7) have mixed types. Specify dtype option on import or set low_memory=False.\n",
      "  df = pd.concat((pd.read_csv(f) for f in filepath), ignore_index = True)\n",
      "C:\\Users\\justi\\AppData\\Local\\Temp\\ipykernel_12752\\2124188168.py:1: DtypeWarning: Columns (5,7) have mixed types. Specify dtype option on import or set low_memory=False.\n",
      "  df = pd.concat((pd.read_csv(f) for f in filepath), ignore_index = True)\n",
      "C:\\Users\\justi\\AppData\\Local\\Temp\\ipykernel_12752\\2124188168.py:1: DtypeWarning: Columns (5,7) have mixed types. Specify dtype option on import or set low_memory=False.\n",
      "  df = pd.concat((pd.read_csv(f) for f in filepath), ignore_index = True)\n",
      "C:\\Users\\justi\\AppData\\Local\\Temp\\ipykernel_12752\\2124188168.py:1: DtypeWarning: Columns (7) have mixed types. Specify dtype option on import or set low_memory=False.\n",
      "  df = pd.concat((pd.read_csv(f) for f in filepath), ignore_index = True)\n",
      "C:\\Users\\justi\\AppData\\Local\\Temp\\ipykernel_12752\\2124188168.py:1: DtypeWarning: Columns (5,7) have mixed types. Specify dtype option on import or set low_memory=False.\n",
      "  df = pd.concat((pd.read_csv(f) for f in filepath), ignore_index = True)\n",
      "C:\\Users\\justi\\AppData\\Local\\Temp\\ipykernel_12752\\2124188168.py:1: DtypeWarning: Columns (5,7) have mixed types. Specify dtype option on import or set low_memory=False.\n",
      "  df = pd.concat((pd.read_csv(f) for f in filepath), ignore_index = True)\n"
     ]
    }
   ],
   "source": [
    "df = pd.concat((pd.read_csv(f) for f in filepath), ignore_index = True)"
   ]
  },
  {
   "cell_type": "code",
   "execution_count": 5,
   "id": "0297ae25-6887-41e3-8c13-1a9ba0b5c5a9",
   "metadata": {},
   "outputs": [
    {
     "data": {
      "text/plain": [
       "(298388, 13)"
      ]
     },
     "execution_count": 5,
     "metadata": {},
     "output_type": "execute_result"
    }
   ],
   "source": [
    "df_sample=df.sample(frac=.01)\n",
    "df_sample.shape"
   ]
  },
  {
   "cell_type": "code",
   "execution_count": 6,
   "id": "e75ce58b-f23d-4be6-8188-9d9f984ef894",
   "metadata": {},
   "outputs": [],
   "source": [
    "df=df_sample"
   ]
  },
  {
   "cell_type": "code",
   "execution_count": 7,
   "id": "8781eed9-692d-4cb6-8cb7-cfd5765ef160",
   "metadata": {
    "scrolled": true
   },
   "outputs": [
    {
     "name": "stdout",
     "output_type": "stream",
     "text": [
      "{'metadata': {'resultset': {'offset': 1, 'count': 365, 'limit': 1000}}, 'results': [{'date': '2022-01-01T00:00:00', 'datatype': 'TAVG', 'station': 'GHCND:USW00014732', 'attributes': 'H,,S,', 'value': 116}, {'date': '2022-01-02T00:00:00', 'datatype': 'TAVG', 'station': 'GHCND:USW00014732', 'attributes': 'H,,S,', 'value': 114}, {'date': '2022-01-03T00:00:00', 'datatype': 'TAVG', 'station': 'GHCND:USW00014732', 'attributes': 'H,,S,', 'value': 14}, {'date': '2022-01-04T00:00:00', 'datatype': 'TAVG', 'station': 'GHCND:USW00014732', 'attributes': 'H,,S,', 'value': -27}, {'date': '2022-01-05T00:00:00', 'datatype': 'TAVG', 'station': 'GHCND:USW00014732', 'attributes': 'H,,S,', 'value': 32}, {'date': '2022-01-06T00:00:00', 'datatype': 'TAVG', 'station': 'GHCND:USW00014732', 'attributes': 'H,,S,', 'value': 49}, {'date': '2022-01-07T00:00:00', 'datatype': 'TAVG', 'station': 'GHCND:USW00014732', 'attributes': 'H,,S,', 'value': 7}, {'date': '2022-01-08T00:00:00', 'datatype': 'TAVG', 'station': 'GHCND:USW00014732', 'attributes': 'H,,S,', 'value': -25}, {'date': '2022-01-09T00:00:00', 'datatype': 'TAVG', 'station': 'GHCND:USW00014732', 'attributes': 'H,,S,', 'value': 14}, {'date': '2022-01-10T00:00:00', 'datatype': 'TAVG', 'station': 'GHCND:USW00014732', 'attributes': 'H,,S,', 'value': 16}, {'date': '2022-01-11T00:00:00', 'datatype': 'TAVG', 'station': 'GHCND:USW00014732', 'attributes': 'H,,S,', 'value': -54}, {'date': '2022-01-12T00:00:00', 'datatype': 'TAVG', 'station': 'GHCND:USW00014732', 'attributes': 'H,,S,', 'value': -19}, {'date': '2022-01-13T00:00:00', 'datatype': 'TAVG', 'station': 'GHCND:USW00014732', 'attributes': 'H,,S,', 'value': 40}, {'date': '2022-01-14T00:00:00', 'datatype': 'TAVG', 'station': 'GHCND:USW00014732', 'attributes': 'H,,S,', 'value': 48}, {'date': '2022-01-15T00:00:00', 'datatype': 'TAVG', 'station': 'GHCND:USW00014732', 'attributes': 'H,,S,', 'value': -67}, {'date': '2022-01-16T00:00:00', 'datatype': 'TAVG', 'station': 'GHCND:USW00014732', 'attributes': 'H,,S,', 'value': -80}, {'date': '2022-01-17T00:00:00', 'datatype': 'TAVG', 'station': 'GHCND:USW00014732', 'attributes': 'H,,S,', 'value': 39}, {'date': '2022-01-18T00:00:00', 'datatype': 'TAVG', 'station': 'GHCND:USW00014732', 'attributes': 'H,,S,', 'value': 18}, {'date': '2022-01-19T00:00:00', 'datatype': 'TAVG', 'station': 'GHCND:USW00014732', 'attributes': 'H,,S,', 'value': 32}, {'date': '2022-01-20T00:00:00', 'datatype': 'TAVG', 'station': 'GHCND:USW00014732', 'attributes': 'H,,S,', 'value': 51}, {'date': '2022-01-21T00:00:00', 'datatype': 'TAVG', 'station': 'GHCND:USW00014732', 'attributes': 'H,,S,', 'value': -60}, {'date': '2022-01-22T00:00:00', 'datatype': 'TAVG', 'station': 'GHCND:USW00014732', 'attributes': 'H,,S,', 'value': -59}, {'date': '2022-01-23T00:00:00', 'datatype': 'TAVG', 'station': 'GHCND:USW00014732', 'attributes': 'H,,S,', 'value': -7}, {'date': '2022-01-24T00:00:00', 'datatype': 'TAVG', 'station': 'GHCND:USW00014732', 'attributes': 'H,,S,', 'value': -2}, {'date': '2022-01-25T00:00:00', 'datatype': 'TAVG', 'station': 'GHCND:USW00014732', 'attributes': 'H,,S,', 'value': 36}, {'date': '2022-01-26T00:00:00', 'datatype': 'TAVG', 'station': 'GHCND:USW00014732', 'attributes': 'H,,S,', 'value': -23}, {'date': '2022-01-27T00:00:00', 'datatype': 'TAVG', 'station': 'GHCND:USW00014732', 'attributes': 'H,,S,', 'value': -42}, {'date': '2022-01-28T00:00:00', 'datatype': 'TAVG', 'station': 'GHCND:USW00014732', 'attributes': 'H,,S,', 'value': 1}, {'date': '2022-01-29T00:00:00', 'datatype': 'TAVG', 'station': 'GHCND:USW00014732', 'attributes': 'H,,S,', 'value': -48}, {'date': '2022-01-30T00:00:00', 'datatype': 'TAVG', 'station': 'GHCND:USW00014732', 'attributes': 'H,,S,', 'value': -71}, {'date': '2022-01-31T00:00:00', 'datatype': 'TAVG', 'station': 'GHCND:USW00014732', 'attributes': 'H,,S,', 'value': -34}, {'date': '2022-02-01T00:00:00', 'datatype': 'TAVG', 'station': 'GHCND:USW00014732', 'attributes': 'H,,S,', 'value': -17}, {'date': '2022-02-02T00:00:00', 'datatype': 'TAVG', 'station': 'GHCND:USW00014732', 'attributes': 'H,,S,', 'value': 23}, {'date': '2022-02-03T00:00:00', 'datatype': 'TAVG', 'station': 'GHCND:USW00014732', 'attributes': 'H,,S,', 'value': 64}, {'date': '2022-02-04T00:00:00', 'datatype': 'TAVG', 'station': 'GHCND:USW00014732', 'attributes': 'H,,S,', 'value': 58}, {'date': '2022-02-05T00:00:00', 'datatype': 'TAVG', 'station': 'GHCND:USW00014732', 'attributes': 'H,,S,', 'value': -28}, {'date': '2022-02-06T00:00:00', 'datatype': 'TAVG', 'station': 'GHCND:USW00014732', 'attributes': 'H,,S,', 'value': -48}, {'date': '2022-02-07T00:00:00', 'datatype': 'TAVG', 'station': 'GHCND:USW00014732', 'attributes': 'H,,S,', 'value': 5}, {'date': '2022-02-08T00:00:00', 'datatype': 'TAVG', 'station': 'GHCND:USW00014732', 'attributes': 'H,,S,', 'value': 41}, {'date': '2022-02-09T00:00:00', 'datatype': 'TAVG', 'station': 'GHCND:USW00014732', 'attributes': 'H,,S,', 'value': 28}, {'date': '2022-02-10T00:00:00', 'datatype': 'TAVG', 'station': 'GHCND:USW00014732', 'attributes': 'H,,S,', 'value': 63}, {'date': '2022-02-11T00:00:00', 'datatype': 'TAVG', 'station': 'GHCND:USW00014732', 'attributes': 'H,,S,', 'value': 86}, {'date': '2022-02-12T00:00:00', 'datatype': 'TAVG', 'station': 'GHCND:USW00014732', 'attributes': 'H,,S,', 'value': 118}, {'date': '2022-02-13T00:00:00', 'datatype': 'TAVG', 'station': 'GHCND:USW00014732', 'attributes': 'H,,S,', 'value': 28}, {'date': '2022-02-14T00:00:00', 'datatype': 'TAVG', 'station': 'GHCND:USW00014732', 'attributes': 'H,,S,', 'value': -43}, {'date': '2022-02-15T00:00:00', 'datatype': 'TAVG', 'station': 'GHCND:USW00014732', 'attributes': 'H,,S,', 'value': -47}, {'date': '2022-02-16T00:00:00', 'datatype': 'TAVG', 'station': 'GHCND:USW00014732', 'attributes': 'H,,S,', 'value': 16}, {'date': '2022-02-17T00:00:00', 'datatype': 'TAVG', 'station': 'GHCND:USW00014732', 'attributes': 'H,,S,', 'value': 116}, {'date': '2022-02-18T00:00:00', 'datatype': 'TAVG', 'station': 'GHCND:USW00014732', 'attributes': 'H,,S,', 'value': 99}, {'date': '2022-02-19T00:00:00', 'datatype': 'TAVG', 'station': 'GHCND:USW00014732', 'attributes': 'H,,S,', 'value': 1}, {'date': '2022-02-20T00:00:00', 'datatype': 'TAVG', 'station': 'GHCND:USW00014732', 'attributes': 'H,,S,', 'value': -26}, {'date': '2022-02-21T00:00:00', 'datatype': 'TAVG', 'station': 'GHCND:USW00014732', 'attributes': 'H,,S,', 'value': 41}, {'date': '2022-02-22T00:00:00', 'datatype': 'TAVG', 'station': 'GHCND:USW00014732', 'attributes': 'H,,S,', 'value': 56}, {'date': '2022-02-23T00:00:00', 'datatype': 'TAVG', 'station': 'GHCND:USW00014732', 'attributes': 'H,,S,', 'value': 144}, {'date': '2022-02-24T00:00:00', 'datatype': 'TAVG', 'station': 'GHCND:USW00014732', 'attributes': 'H,,S,', 'value': 11}, {'date': '2022-02-25T00:00:00', 'datatype': 'TAVG', 'station': 'GHCND:USW00014732', 'attributes': 'H,,S,', 'value': 8}, {'date': '2022-02-26T00:00:00', 'datatype': 'TAVG', 'station': 'GHCND:USW00014732', 'attributes': 'H,,S,', 'value': -11}, {'date': '2022-02-27T00:00:00', 'datatype': 'TAVG', 'station': 'GHCND:USW00014732', 'attributes': 'H,,S,', 'value': 24}, {'date': '2022-02-28T00:00:00', 'datatype': 'TAVG', 'station': 'GHCND:USW00014732', 'attributes': 'H,,S,', 'value': 8}, {'date': '2022-03-01T00:00:00', 'datatype': 'TAVG', 'station': 'GHCND:USW00014732', 'attributes': 'H,,S,', 'value': 26}, {'date': '2022-03-02T00:00:00', 'datatype': 'TAVG', 'station': 'GHCND:USW00014732', 'attributes': 'H,,S,', 'value': 77}, {'date': '2022-03-03T00:00:00', 'datatype': 'TAVG', 'station': 'GHCND:USW00014732', 'attributes': 'H,,S,', 'value': 56}, {'date': '2022-03-04T00:00:00', 'datatype': 'TAVG', 'station': 'GHCND:USW00014732', 'attributes': 'H,,S,', 'value': -19}, {'date': '2022-03-05T00:00:00', 'datatype': 'TAVG', 'station': 'GHCND:USW00014732', 'attributes': 'H,,S,', 'value': 31}, {'date': '2022-03-06T00:00:00', 'datatype': 'TAVG', 'station': 'GHCND:USW00014732', 'attributes': 'H,,S,', 'value': 96}, {'date': '2022-03-07T00:00:00', 'datatype': 'TAVG', 'station': 'GHCND:USW00014732', 'attributes': 'H,,S,', 'value': 182}, {'date': '2022-03-08T00:00:00', 'datatype': 'TAVG', 'station': 'GHCND:USW00014732', 'attributes': 'H,,S,', 'value': 87}, {'date': '2022-03-09T00:00:00', 'datatype': 'TAVG', 'station': 'GHCND:USW00014732', 'attributes': 'H,,S,', 'value': 32}, {'date': '2022-03-10T00:00:00', 'datatype': 'TAVG', 'station': 'GHCND:USW00014732', 'attributes': 'H,,S,', 'value': 40}, {'date': '2022-03-11T00:00:00', 'datatype': 'TAVG', 'station': 'GHCND:USW00014732', 'attributes': 'H,,S,', 'value': 72}, {'date': '2022-03-12T00:00:00', 'datatype': 'TAVG', 'station': 'GHCND:USW00014732', 'attributes': 'H,,S,', 'value': 51}, {'date': '2022-03-13T00:00:00', 'datatype': 'TAVG', 'station': 'GHCND:USW00014732', 'attributes': 'H,,S,', 'value': -23}, {'date': '2022-03-14T00:00:00', 'datatype': 'TAVG', 'station': 'GHCND:USW00014732', 'attributes': 'H,,S,', 'value': 53}, {'date': '2022-03-15T00:00:00', 'datatype': 'TAVG', 'station': 'GHCND:USW00014732', 'attributes': 'H,,S,', 'value': 116}, {'date': '2022-03-16T00:00:00', 'datatype': 'TAVG', 'station': 'GHCND:USW00014732', 'attributes': 'H,,S,', 'value': 136}, {'date': '2022-03-17T00:00:00', 'datatype': 'TAVG', 'station': 'GHCND:USW00014732', 'attributes': 'H,,S,', 'value': 82}, {'date': '2022-03-18T00:00:00', 'datatype': 'TAVG', 'station': 'GHCND:USW00014732', 'attributes': 'H,,S,', 'value': 139}, {'date': '2022-03-19T00:00:00', 'datatype': 'TAVG', 'station': 'GHCND:USW00014732', 'attributes': 'H,,S,', 'value': 131}, {'date': '2022-03-20T00:00:00', 'datatype': 'TAVG', 'station': 'GHCND:USW00014732', 'attributes': 'H,,S,', 'value': 143}, {'date': '2022-03-21T00:00:00', 'datatype': 'TAVG', 'station': 'GHCND:USW00014732', 'attributes': 'H,,S,', 'value': 104}, {'date': '2022-03-22T00:00:00', 'datatype': 'TAVG', 'station': 'GHCND:USW00014732', 'attributes': 'H,,S,', 'value': 107}, {'date': '2022-03-23T00:00:00', 'datatype': 'TAVG', 'station': 'GHCND:USW00014732', 'attributes': 'H,,S,', 'value': 72}, {'date': '2022-03-24T00:00:00', 'datatype': 'TAVG', 'station': 'GHCND:USW00014732', 'attributes': 'H,,S,', 'value': 57}, {'date': '2022-03-25T00:00:00', 'datatype': 'TAVG', 'station': 'GHCND:USW00014732', 'attributes': 'H,,S,', 'value': 96}, {'date': '2022-03-26T00:00:00', 'datatype': 'TAVG', 'station': 'GHCND:USW00014732', 'attributes': 'H,,S,', 'value': 104}, {'date': '2022-03-27T00:00:00', 'datatype': 'TAVG', 'station': 'GHCND:USW00014732', 'attributes': 'H,,S,', 'value': 59}, {'date': '2022-03-28T00:00:00', 'datatype': 'TAVG', 'station': 'GHCND:USW00014732', 'attributes': 'H,,S,', 'value': -15}, {'date': '2022-03-29T00:00:00', 'datatype': 'TAVG', 'station': 'GHCND:USW00014732', 'attributes': 'H,,S,', 'value': -12}, {'date': '2022-03-30T00:00:00', 'datatype': 'TAVG', 'station': 'GHCND:USW00014732', 'attributes': 'H,,S,', 'value': 26}, {'date': '2022-03-31T00:00:00', 'datatype': 'TAVG', 'station': 'GHCND:USW00014732', 'attributes': 'H,,S,', 'value': 99}, {'date': '2022-04-01T00:00:00', 'datatype': 'TAVG', 'station': 'GHCND:USW00014732', 'attributes': 'H,,S,', 'value': 131}, {'date': '2022-04-02T00:00:00', 'datatype': 'TAVG', 'station': 'GHCND:USW00014732', 'attributes': 'H,,S,', 'value': 72}, {'date': '2022-04-03T00:00:00', 'datatype': 'TAVG', 'station': 'GHCND:USW00014732', 'attributes': 'H,,S,', 'value': 70}, {'date': '2022-04-04T00:00:00', 'datatype': 'TAVG', 'station': 'GHCND:USW00014732', 'attributes': 'H,,S,', 'value': 76}, {'date': '2022-04-05T00:00:00', 'datatype': 'TAVG', 'station': 'GHCND:USW00014732', 'attributes': 'H,,S,', 'value': 97}, {'date': '2022-04-06T00:00:00', 'datatype': 'TAVG', 'station': 'GHCND:USW00014732', 'attributes': 'H,,S,', 'value': 86}, {'date': '2022-04-07T00:00:00', 'datatype': 'TAVG', 'station': 'GHCND:USW00014732', 'attributes': 'H,,S,', 'value': 91}, {'date': '2022-04-08T00:00:00', 'datatype': 'TAVG', 'station': 'GHCND:USW00014732', 'attributes': 'H,,S,', 'value': 128}, {'date': '2022-04-09T00:00:00', 'datatype': 'TAVG', 'station': 'GHCND:USW00014732', 'attributes': 'H,,S,', 'value': 114}, {'date': '2022-04-10T00:00:00', 'datatype': 'TAVG', 'station': 'GHCND:USW00014732', 'attributes': 'H,,S,', 'value': 86}, {'date': '2022-04-11T00:00:00', 'datatype': 'TAVG', 'station': 'GHCND:USW00014732', 'attributes': 'H,,S,', 'value': 88}, {'date': '2022-04-12T00:00:00', 'datatype': 'TAVG', 'station': 'GHCND:USW00014732', 'attributes': 'H,,S,', 'value': 134}, {'date': '2022-04-13T00:00:00', 'datatype': 'TAVG', 'station': 'GHCND:USW00014732', 'attributes': 'H,,S,', 'value': 154}, {'date': '2022-04-14T00:00:00', 'datatype': 'TAVG', 'station': 'GHCND:USW00014732', 'attributes': 'H,,S,', 'value': 163}, {'date': '2022-04-15T00:00:00', 'datatype': 'TAVG', 'station': 'GHCND:USW00014732', 'attributes': 'H,,S,', 'value': 157}, {'date': '2022-04-16T00:00:00', 'datatype': 'TAVG', 'station': 'GHCND:USW00014732', 'attributes': 'H,,S,', 'value': 157}, {'date': '2022-04-17T00:00:00', 'datatype': 'TAVG', 'station': 'GHCND:USW00014732', 'attributes': 'H,,S,', 'value': 83}, {'date': '2022-04-18T00:00:00', 'datatype': 'TAVG', 'station': 'GHCND:USW00014732', 'attributes': 'H,,S,', 'value': 79}, {'date': '2022-04-19T00:00:00', 'datatype': 'TAVG', 'station': 'GHCND:USW00014732', 'attributes': 'H,,S,', 'value': 76}, {'date': '2022-04-20T00:00:00', 'datatype': 'TAVG', 'station': 'GHCND:USW00014732', 'attributes': 'H,,S,', 'value': 94}, {'date': '2022-04-21T00:00:00', 'datatype': 'TAVG', 'station': 'GHCND:USW00014732', 'attributes': 'H,,S,', 'value': 106}, {'date': '2022-04-22T00:00:00', 'datatype': 'TAVG', 'station': 'GHCND:USW00014732', 'attributes': 'H,,S,', 'value': 146}, {'date': '2022-04-23T00:00:00', 'datatype': 'TAVG', 'station': 'GHCND:USW00014732', 'attributes': 'H,,S,', 'value': 133}, {'date': '2022-04-24T00:00:00', 'datatype': 'TAVG', 'station': 'GHCND:USW00014732', 'attributes': 'H,,S,', 'value': 128}, {'date': '2022-04-25T00:00:00', 'datatype': 'TAVG', 'station': 'GHCND:USW00014732', 'attributes': 'H,,S,', 'value': 104}, {'date': '2022-04-26T00:00:00', 'datatype': 'TAVG', 'station': 'GHCND:USW00014732', 'attributes': 'H,,S,', 'value': 115}, {'date': '2022-04-27T00:00:00', 'datatype': 'TAVG', 'station': 'GHCND:USW00014732', 'attributes': 'H,,S,', 'value': 116}, {'date': '2022-04-28T00:00:00', 'datatype': 'TAVG', 'station': 'GHCND:USW00014732', 'attributes': 'H,,S,', 'value': 82}, {'date': '2022-04-29T00:00:00', 'datatype': 'TAVG', 'station': 'GHCND:USW00014732', 'attributes': 'H,,S,', 'value': 104}, {'date': '2022-04-30T00:00:00', 'datatype': 'TAVG', 'station': 'GHCND:USW00014732', 'attributes': 'H,,S,', 'value': 129}, {'date': '2022-05-01T00:00:00', 'datatype': 'TAVG', 'station': 'GHCND:USW00014732', 'attributes': 'H,,S,', 'value': 136}, {'date': '2022-05-02T00:00:00', 'datatype': 'TAVG', 'station': 'GHCND:USW00014732', 'attributes': 'H,,S,', 'value': 121}, {'date': '2022-05-03T00:00:00', 'datatype': 'TAVG', 'station': 'GHCND:USW00014732', 'attributes': 'H,,S,', 'value': 124}, {'date': '2022-05-04T00:00:00', 'datatype': 'TAVG', 'station': 'GHCND:USW00014732', 'attributes': 'H,,S,', 'value': 120}, {'date': '2022-05-05T00:00:00', 'datatype': 'TAVG', 'station': 'GHCND:USW00014732', 'attributes': 'H,,S,', 'value': 172}, {'date': '2022-05-06T00:00:00', 'datatype': 'TAVG', 'station': 'GHCND:USW00014732', 'attributes': 'H,,S,', 'value': 148}, {'date': '2022-05-07T00:00:00', 'datatype': 'TAVG', 'station': 'GHCND:USW00014732', 'attributes': 'H,,S,', 'value': 100}, {'date': '2022-05-08T00:00:00', 'datatype': 'TAVG', 'station': 'GHCND:USW00014732', 'attributes': 'H,,S,', 'value': 104}, {'date': '2022-05-09T00:00:00', 'datatype': 'TAVG', 'station': 'GHCND:USW00014732', 'attributes': 'H,,S,', 'value': 135}, {'date': '2022-05-10T00:00:00', 'datatype': 'TAVG', 'station': 'GHCND:USW00014732', 'attributes': 'H,,S,', 'value': 154}, {'date': '2022-05-11T00:00:00', 'datatype': 'TAVG', 'station': 'GHCND:USW00014732', 'attributes': 'H,,S,', 'value': 161}, {'date': '2022-05-12T00:00:00', 'datatype': 'TAVG', 'station': 'GHCND:USW00014732', 'attributes': 'H,,S,', 'value': 171}, {'date': '2022-05-13T00:00:00', 'datatype': 'TAVG', 'station': 'GHCND:USW00014732', 'attributes': 'H,,S,', 'value': 160}, {'date': '2022-05-14T00:00:00', 'datatype': 'TAVG', 'station': 'GHCND:USW00014732', 'attributes': 'H,,S,', 'value': 179}, {'date': '2022-05-15T00:00:00', 'datatype': 'TAVG', 'station': 'GHCND:USW00014732', 'attributes': 'H,,S,', 'value': 188}, {'date': '2022-05-16T00:00:00', 'datatype': 'TAVG', 'station': 'GHCND:USW00014732', 'attributes': 'H,,S,', 'value': 204}, {'date': '2022-05-17T00:00:00', 'datatype': 'TAVG', 'station': 'GHCND:USW00014732', 'attributes': 'H,,S,', 'value': 197}, {'date': '2022-05-18T00:00:00', 'datatype': 'TAVG', 'station': 'GHCND:USW00014732', 'attributes': 'H,,S,', 'value': 178}, {'date': '2022-05-19T00:00:00', 'datatype': 'TAVG', 'station': 'GHCND:USW00014732', 'attributes': 'H,,S,', 'value': 155}, {'date': '2022-05-20T00:00:00', 'datatype': 'TAVG', 'station': 'GHCND:USW00014732', 'attributes': 'H,,S,', 'value': 154}, {'date': '2022-05-21T00:00:00', 'datatype': 'TAVG', 'station': 'GHCND:USW00014732', 'attributes': 'H,,S,', 'value': 212}, {'date': '2022-05-22T00:00:00', 'datatype': 'TAVG', 'station': 'GHCND:USW00014732', 'attributes': 'H,,S,', 'value': 278}, {'date': '2022-05-23T00:00:00', 'datatype': 'TAVG', 'station': 'GHCND:USW00014732', 'attributes': 'H,,S,', 'value': 210}, {'date': '2022-05-24T00:00:00', 'datatype': 'TAVG', 'station': 'GHCND:USW00014732', 'attributes': 'H,,S,', 'value': 174}, {'date': '2022-05-25T00:00:00', 'datatype': 'TAVG', 'station': 'GHCND:USW00014732', 'attributes': 'H,,S,', 'value': 162}, {'date': '2022-05-26T00:00:00', 'datatype': 'TAVG', 'station': 'GHCND:USW00014732', 'attributes': 'H,,S,', 'value': 164}, {'date': '2022-05-27T00:00:00', 'datatype': 'TAVG', 'station': 'GHCND:USW00014732', 'attributes': 'H,,S,', 'value': 202}, {'date': '2022-05-28T00:00:00', 'datatype': 'TAVG', 'station': 'GHCND:USW00014732', 'attributes': 'H,,S,', 'value': 204}, {'date': '2022-05-29T00:00:00', 'datatype': 'TAVG', 'station': 'GHCND:USW00014732', 'attributes': 'H,,S,', 'value': 207}, {'date': '2022-05-30T00:00:00', 'datatype': 'TAVG', 'station': 'GHCND:USW00014732', 'attributes': 'H,,S,', 'value': 233}, {'date': '2022-05-31T00:00:00', 'datatype': 'TAVG', 'station': 'GHCND:USW00014732', 'attributes': 'H,,S,', 'value': 283}, {'date': '2022-06-01T00:00:00', 'datatype': 'TAVG', 'station': 'GHCND:USW00014732', 'attributes': 'H,,S,', 'value': 178}, {'date': '2022-06-02T00:00:00', 'datatype': 'TAVG', 'station': 'GHCND:USW00014732', 'attributes': 'H,,S,', 'value': 203}, {'date': '2022-06-03T00:00:00', 'datatype': 'TAVG', 'station': 'GHCND:USW00014732', 'attributes': 'H,,S,', 'value': 195}, {'date': '2022-06-04T00:00:00', 'datatype': 'TAVG', 'station': 'GHCND:USW00014732', 'attributes': 'H,,S,', 'value': 219}, {'date': '2022-06-05T00:00:00', 'datatype': 'TAVG', 'station': 'GHCND:USW00014732', 'attributes': 'H,,S,', 'value': 200}, {'date': '2022-06-06T00:00:00', 'datatype': 'TAVG', 'station': 'GHCND:USW00014732', 'attributes': 'H,,S,', 'value': 222}, {'date': '2022-06-07T00:00:00', 'datatype': 'TAVG', 'station': 'GHCND:USW00014732', 'attributes': 'H,,S,', 'value': 218}, {'date': '2022-06-08T00:00:00', 'datatype': 'TAVG', 'station': 'GHCND:USW00014732', 'attributes': 'H,,S,', 'value': 237}, {'date': '2022-06-09T00:00:00', 'datatype': 'TAVG', 'station': 'GHCND:USW00014732', 'attributes': 'H,,S,', 'value': 244}, {'date': '2022-06-10T00:00:00', 'datatype': 'TAVG', 'station': 'GHCND:USW00014732', 'attributes': 'H,,S,', 'value': 218}, {'date': '2022-06-11T00:00:00', 'datatype': 'TAVG', 'station': 'GHCND:USW00014732', 'attributes': 'H,,S,', 'value': 218}, {'date': '2022-06-12T00:00:00', 'datatype': 'TAVG', 'station': 'GHCND:USW00014732', 'attributes': 'H,,S,', 'value': 205}, {'date': '2022-06-13T00:00:00', 'datatype': 'TAVG', 'station': 'GHCND:USW00014732', 'attributes': 'H,,S,', 'value': 242}, {'date': '2022-06-14T00:00:00', 'datatype': 'TAVG', 'station': 'GHCND:USW00014732', 'attributes': 'H,,S,', 'value': 239}, {'date': '2022-06-15T00:00:00', 'datatype': 'TAVG', 'station': 'GHCND:USW00014732', 'attributes': 'H,,S,', 'value': 233}, {'date': '2022-06-16T00:00:00', 'datatype': 'TAVG', 'station': 'GHCND:USW00014732', 'attributes': 'H,,S,', 'value': 203}, {'date': '2022-06-17T00:00:00', 'datatype': 'TAVG', 'station': 'GHCND:USW00014732', 'attributes': 'H,,S,', 'value': 252}, {'date': '2022-06-18T00:00:00', 'datatype': 'TAVG', 'station': 'GHCND:USW00014732', 'attributes': 'H,,S,', 'value': 217}, {'date': '2022-06-19T00:00:00', 'datatype': 'TAVG', 'station': 'GHCND:USW00014732', 'attributes': 'H,,S,', 'value': 173}, {'date': '2022-06-20T00:00:00', 'datatype': 'TAVG', 'station': 'GHCND:USW00014732', 'attributes': 'H,,S,', 'value': 205}, {'date': '2022-06-21T00:00:00', 'datatype': 'TAVG', 'station': 'GHCND:USW00014732', 'attributes': 'H,,S,', 'value': 221}, {'date': '2022-06-22T00:00:00', 'datatype': 'TAVG', 'station': 'GHCND:USW00014732', 'attributes': 'H,,S,', 'value': 191}, {'date': '2022-06-23T00:00:00', 'datatype': 'TAVG', 'station': 'GHCND:USW00014732', 'attributes': 'H,,S,', 'value': 192}, {'date': '2022-06-24T00:00:00', 'datatype': 'TAVG', 'station': 'GHCND:USW00014732', 'attributes': 'H,,S,', 'value': 219}, {'date': '2022-06-25T00:00:00', 'datatype': 'TAVG', 'station': 'GHCND:USW00014732', 'attributes': 'H,,S,', 'value': 258}, {'date': '2022-06-26T00:00:00', 'datatype': 'TAVG', 'station': 'GHCND:USW00014732', 'attributes': 'H,,S,', 'value': 270}, {'date': '2022-06-27T00:00:00', 'datatype': 'TAVG', 'station': 'GHCND:USW00014732', 'attributes': 'H,,S,', 'value': 243}, {'date': '2022-06-28T00:00:00', 'datatype': 'TAVG', 'station': 'GHCND:USW00014732', 'attributes': 'H,,S,', 'value': 224}, {'date': '2022-06-29T00:00:00', 'datatype': 'TAVG', 'station': 'GHCND:USW00014732', 'attributes': 'H,,S,', 'value': 239}, {'date': '2022-06-30T00:00:00', 'datatype': 'TAVG', 'station': 'GHCND:USW00014732', 'attributes': 'H,,S,', 'value': 254}, {'date': '2022-07-01T00:00:00', 'datatype': 'TAVG', 'station': 'GHCND:USW00014732', 'attributes': 'H,,S,', 'value': 281}, {'date': '2022-07-02T00:00:00', 'datatype': 'TAVG', 'station': 'GHCND:USW00014732', 'attributes': 'H,,S,', 'value': 287}, {'date': '2022-07-03T00:00:00', 'datatype': 'TAVG', 'station': 'GHCND:USW00014732', 'attributes': 'H,,S,', 'value': 269}, {'date': '2022-07-04T00:00:00', 'datatype': 'TAVG', 'station': 'GHCND:USW00014732', 'attributes': 'H,,S,', 'value': 256}, {'date': '2022-07-05T00:00:00', 'datatype': 'TAVG', 'station': 'GHCND:USW00014732', 'attributes': 'H,,S,', 'value': 259}, {'date': '2022-07-06T00:00:00', 'datatype': 'TAVG', 'station': 'GHCND:USW00014732', 'attributes': 'H,,S,', 'value': 260}, {'date': '2022-07-07T00:00:00', 'datatype': 'TAVG', 'station': 'GHCND:USW00014732', 'attributes': 'H,,S,', 'value': 242}, {'date': '2022-07-08T00:00:00', 'datatype': 'TAVG', 'station': 'GHCND:USW00014732', 'attributes': 'H,,S,', 'value': 235}, {'date': '2022-07-09T00:00:00', 'datatype': 'TAVG', 'station': 'GHCND:USW00014732', 'attributes': 'H,,S,', 'value': 247}, {'date': '2022-07-10T00:00:00', 'datatype': 'TAVG', 'station': 'GHCND:USW00014732', 'attributes': 'H,,S,', 'value': 234}, {'date': '2022-07-11T00:00:00', 'datatype': 'TAVG', 'station': 'GHCND:USW00014732', 'attributes': 'H,,S,', 'value': 240}, {'date': '2022-07-12T00:00:00', 'datatype': 'TAVG', 'station': 'GHCND:USW00014732', 'attributes': 'H,,S,', 'value': 258}, {'date': '2022-07-13T00:00:00', 'datatype': 'TAVG', 'station': 'GHCND:USW00014732', 'attributes': 'H,,S,', 'value': 289}, {'date': '2022-07-14T00:00:00', 'datatype': 'TAVG', 'station': 'GHCND:USW00014732', 'attributes': 'H,,S,', 'value': 266}, {'date': '2022-07-15T00:00:00', 'datatype': 'TAVG', 'station': 'GHCND:USW00014732', 'attributes': 'H,,S,', 'value': 261}, {'date': '2022-07-16T00:00:00', 'datatype': 'TAVG', 'station': 'GHCND:USW00014732', 'attributes': 'H,,S,', 'value': 243}, {'date': '2022-07-17T00:00:00', 'datatype': 'TAVG', 'station': 'GHCND:USW00014732', 'attributes': 'H,,S,', 'value': 257}, {'date': '2022-07-18T00:00:00', 'datatype': 'TAVG', 'station': 'GHCND:USW00014732', 'attributes': 'H,,S,', 'value': 262}, {'date': '2022-07-19T00:00:00', 'datatype': 'TAVG', 'station': 'GHCND:USW00014732', 'attributes': 'H,,S,', 'value': 282}, {'date': '2022-07-20T00:00:00', 'datatype': 'TAVG', 'station': 'GHCND:USW00014732', 'attributes': 'H,,S,', 'value': 313}, {'date': '2022-07-21T00:00:00', 'datatype': 'TAVG', 'station': 'GHCND:USW00014732', 'attributes': 'H,,S,', 'value': 298}, {'date': '2022-07-22T00:00:00', 'datatype': 'TAVG', 'station': 'GHCND:USW00014732', 'attributes': 'H,,S,', 'value': 309}, {'date': '2022-07-23T00:00:00', 'datatype': 'TAVG', 'station': 'GHCND:USW00014732', 'attributes': 'H,,S,', 'value': 303}, {'date': '2022-07-24T00:00:00', 'datatype': 'TAVG', 'station': 'GHCND:USW00014732', 'attributes': 'H,,S,', 'value': 311}, {'date': '2022-07-25T00:00:00', 'datatype': 'TAVG', 'station': 'GHCND:USW00014732', 'attributes': 'H,,S,', 'value': 298}, {'date': '2022-07-26T00:00:00', 'datatype': 'TAVG', 'station': 'GHCND:USW00014732', 'attributes': 'H,,S,', 'value': 259}, {'date': '2022-07-27T00:00:00', 'datatype': 'TAVG', 'station': 'GHCND:USW00014732', 'attributes': 'H,,S,', 'value': 255}, {'date': '2022-07-28T00:00:00', 'datatype': 'TAVG', 'station': 'GHCND:USW00014732', 'attributes': 'H,,S,', 'value': 267}, {'date': '2022-07-29T00:00:00', 'datatype': 'TAVG', 'station': 'GHCND:USW00014732', 'attributes': 'H,,S,', 'value': 282}, {'date': '2022-07-30T00:00:00', 'datatype': 'TAVG', 'station': 'GHCND:USW00014732', 'attributes': 'H,,S,', 'value': 267}, {'date': '2022-07-31T00:00:00', 'datatype': 'TAVG', 'station': 'GHCND:USW00014732', 'attributes': 'H,,S,', 'value': 263}, {'date': '2022-08-01T00:00:00', 'datatype': 'TAVG', 'station': 'GHCND:USW00014732', 'attributes': 'H,,S,', 'value': 231}, {'date': '2022-08-02T00:00:00', 'datatype': 'TAVG', 'station': 'GHCND:USW00014732', 'attributes': 'H,,S,', 'value': 264}, {'date': '2022-08-03T00:00:00', 'datatype': 'TAVG', 'station': 'GHCND:USW00014732', 'attributes': 'H,,S,', 'value': 276}, {'date': '2022-08-04T00:00:00', 'datatype': 'TAVG', 'station': 'GHCND:USW00014732', 'attributes': 'H,,S,', 'value': 291}, {'date': '2022-08-05T00:00:00', 'datatype': 'TAVG', 'station': 'GHCND:USW00014732', 'attributes': 'H,,S,', 'value': 293}, {'date': '2022-08-06T00:00:00', 'datatype': 'TAVG', 'station': 'GHCND:USW00014732', 'attributes': 'H,,S,', 'value': 296}, {'date': '2022-08-07T00:00:00', 'datatype': 'TAVG', 'station': 'GHCND:USW00014732', 'attributes': 'H,,S,', 'value': 296}, {'date': '2022-08-08T00:00:00', 'datatype': 'TAVG', 'station': 'GHCND:USW00014732', 'attributes': 'H,,S,', 'value': 303}, {'date': '2022-08-09T00:00:00', 'datatype': 'TAVG', 'station': 'GHCND:USW00014732', 'attributes': 'H,,S,', 'value': 313}, {'date': '2022-08-10T00:00:00', 'datatype': 'TAVG', 'station': 'GHCND:USW00014732', 'attributes': 'H,,S,', 'value': 272}, {'date': '2022-08-11T00:00:00', 'datatype': 'TAVG', 'station': 'GHCND:USW00014732', 'attributes': 'H,,S,', 'value': 266}, {'date': '2022-08-12T00:00:00', 'datatype': 'TAVG', 'station': 'GHCND:USW00014732', 'attributes': 'H,,S,', 'value': 256}, {'date': '2022-08-13T00:00:00', 'datatype': 'TAVG', 'station': 'GHCND:USW00014732', 'attributes': 'H,,S,', 'value': 231}, {'date': '2022-08-14T00:00:00', 'datatype': 'TAVG', 'station': 'GHCND:USW00014732', 'attributes': 'H,,S,', 'value': 240}, {'date': '2022-08-15T00:00:00', 'datatype': 'TAVG', 'station': 'GHCND:USW00014732', 'attributes': 'H,,S,', 'value': 243}, {'date': '2022-08-16T00:00:00', 'datatype': 'TAVG', 'station': 'GHCND:USW00014732', 'attributes': 'H,,S,', 'value': 236}, {'date': '2022-08-17T00:00:00', 'datatype': 'TAVG', 'station': 'GHCND:USW00014732', 'attributes': 'H,,S,', 'value': 236}, {'date': '2022-08-18T00:00:00', 'datatype': 'TAVG', 'station': 'GHCND:USW00014732', 'attributes': 'H,,S,', 'value': 241}, {'date': '2022-08-19T00:00:00', 'datatype': 'TAVG', 'station': 'GHCND:USW00014732', 'attributes': 'H,,S,', 'value': 263}, {'date': '2022-08-20T00:00:00', 'datatype': 'TAVG', 'station': 'GHCND:USW00014732', 'attributes': 'H,,S,', 'value': 279}, {'date': '2022-08-21T00:00:00', 'datatype': 'TAVG', 'station': 'GHCND:USW00014732', 'attributes': 'H,,S,', 'value': 253}, {'date': '2022-08-22T00:00:00', 'datatype': 'TAVG', 'station': 'GHCND:USW00014732', 'attributes': 'H,,S,', 'value': 245}, {'date': '2022-08-23T00:00:00', 'datatype': 'TAVG', 'station': 'GHCND:USW00014732', 'attributes': 'H,,S,', 'value': 259}, {'date': '2022-08-24T00:00:00', 'datatype': 'TAVG', 'station': 'GHCND:USW00014732', 'attributes': 'H,,S,', 'value': 269}, {'date': '2022-08-25T00:00:00', 'datatype': 'TAVG', 'station': 'GHCND:USW00014732', 'attributes': 'H,,S,', 'value': 281}, {'date': '2022-08-26T00:00:00', 'datatype': 'TAVG', 'station': 'GHCND:USW00014732', 'attributes': 'H,,S,', 'value': 274}, {'date': '2022-08-27T00:00:00', 'datatype': 'TAVG', 'station': 'GHCND:USW00014732', 'attributes': 'H,,S,', 'value': 278}, {'date': '2022-08-28T00:00:00', 'datatype': 'TAVG', 'station': 'GHCND:USW00014732', 'attributes': 'H,,S,', 'value': 246}, {'date': '2022-08-29T00:00:00', 'datatype': 'TAVG', 'station': 'GHCND:USW00014732', 'attributes': 'H,,S,', 'value': 260}, {'date': '2022-08-30T00:00:00', 'datatype': 'TAVG', 'station': 'GHCND:USW00014732', 'attributes': 'H,,S,', 'value': 268}, {'date': '2022-08-31T00:00:00', 'datatype': 'TAVG', 'station': 'GHCND:USW00014732', 'attributes': 'H,,S,', 'value': 256}, {'date': '2022-09-01T00:00:00', 'datatype': 'TAVG', 'station': 'GHCND:USW00014732', 'attributes': 'H,,S,', 'value': 259}, {'date': '2022-09-02T00:00:00', 'datatype': 'TAVG', 'station': 'GHCND:USW00014732', 'attributes': 'H,,S,', 'value': 217}, {'date': '2022-09-03T00:00:00', 'datatype': 'TAVG', 'station': 'GHCND:USW00014732', 'attributes': 'H,,S,', 'value': 228}, {'date': '2022-09-04T00:00:00', 'datatype': 'TAVG', 'station': 'GHCND:USW00014732', 'attributes': 'H,,S,', 'value': 253}, {'date': '2022-09-05T00:00:00', 'datatype': 'TAVG', 'station': 'GHCND:USW00014732', 'attributes': 'H,,S,', 'value': 258}, {'date': '2022-09-06T00:00:00', 'datatype': 'TAVG', 'station': 'GHCND:USW00014732', 'attributes': 'H,,S,', 'value': 233}, {'date': '2022-09-07T00:00:00', 'datatype': 'TAVG', 'station': 'GHCND:USW00014732', 'attributes': 'H,,S,', 'value': 208}, {'date': '2022-09-08T00:00:00', 'datatype': 'TAVG', 'station': 'GHCND:USW00014732', 'attributes': 'H,,S,', 'value': 218}, {'date': '2022-09-09T00:00:00', 'datatype': 'TAVG', 'station': 'GHCND:USW00014732', 'attributes': 'H,,S,', 'value': 219}, {'date': '2022-09-10T00:00:00', 'datatype': 'TAVG', 'station': 'GHCND:USW00014732', 'attributes': 'H,,S,', 'value': 236}, {'date': '2022-09-11T00:00:00', 'datatype': 'TAVG', 'station': 'GHCND:USW00014732', 'attributes': 'H,,S,', 'value': 232}, {'date': '2022-09-12T00:00:00', 'datatype': 'TAVG', 'station': 'GHCND:USW00014732', 'attributes': 'H,,S,', 'value': 224}, {'date': '2022-09-13T00:00:00', 'datatype': 'TAVG', 'station': 'GHCND:USW00014732', 'attributes': 'H,,S,', 'value': 247}, {'date': '2022-09-14T00:00:00', 'datatype': 'TAVG', 'station': 'GHCND:USW00014732', 'attributes': 'H,,S,', 'value': 229}, {'date': '2022-09-15T00:00:00', 'datatype': 'TAVG', 'station': 'GHCND:USW00014732', 'attributes': 'H,,S,', 'value': 218}, {'date': '2022-09-16T00:00:00', 'datatype': 'TAVG', 'station': 'GHCND:USW00014732', 'attributes': 'H,,S,', 'value': 196}, {'date': '2022-09-17T00:00:00', 'datatype': 'TAVG', 'station': 'GHCND:USW00014732', 'attributes': 'H,,S,', 'value': 208}, {'date': '2022-09-18T00:00:00', 'datatype': 'TAVG', 'station': 'GHCND:USW00014732', 'attributes': 'H,,S,', 'value': 234}, {'date': '2022-09-19T00:00:00', 'datatype': 'TAVG', 'station': 'GHCND:USW00014732', 'attributes': 'H,,S,', 'value': 256}, {'date': '2022-09-20T00:00:00', 'datatype': 'TAVG', 'station': 'GHCND:USW00014732', 'attributes': 'H,,S,', 'value': 232}, {'date': '2022-09-21T00:00:00', 'datatype': 'TAVG', 'station': 'GHCND:USW00014732', 'attributes': 'H,,S,', 'value': 220}, {'date': '2022-09-22T00:00:00', 'datatype': 'TAVG', 'station': 'GHCND:USW00014732', 'attributes': 'H,,S,', 'value': 218}, {'date': '2022-09-23T00:00:00', 'datatype': 'TAVG', 'station': 'GHCND:USW00014732', 'attributes': 'H,,S,', 'value': 151}, {'date': '2022-09-24T00:00:00', 'datatype': 'TAVG', 'station': 'GHCND:USW00014732', 'attributes': 'H,,S,', 'value': 145}, {'date': '2022-09-25T00:00:00', 'datatype': 'TAVG', 'station': 'GHCND:USW00014732', 'attributes': 'H,,S,', 'value': 192}, {'date': '2022-09-26T00:00:00', 'datatype': 'TAVG', 'station': 'GHCND:USW00014732', 'attributes': 'H,,S,', 'value': 194}, {'date': '2022-09-27T00:00:00', 'datatype': 'TAVG', 'station': 'GHCND:USW00014732', 'attributes': 'H,,S,', 'value': 197}, {'date': '2022-09-28T00:00:00', 'datatype': 'TAVG', 'station': 'GHCND:USW00014732', 'attributes': 'H,,S,', 'value': 172}, {'date': '2022-09-29T00:00:00', 'datatype': 'TAVG', 'station': 'GHCND:USW00014732', 'attributes': 'H,,S,', 'value': 166}, {'date': '2022-09-30T00:00:00', 'datatype': 'TAVG', 'station': 'GHCND:USW00014732', 'attributes': 'H,,S,', 'value': 145}, {'date': '2022-10-01T00:00:00', 'datatype': 'TAVG', 'station': 'GHCND:USW00014732', 'attributes': 'H,,S,', 'value': 148}, {'date': '2022-10-02T00:00:00', 'datatype': 'TAVG', 'station': 'GHCND:USW00014732', 'attributes': 'H,,S,', 'value': 152}, {'date': '2022-10-03T00:00:00', 'datatype': 'TAVG', 'station': 'GHCND:USW00014732', 'attributes': 'H,,S,', 'value': 115}, {'date': '2022-10-04T00:00:00', 'datatype': 'TAVG', 'station': 'GHCND:USW00014732', 'attributes': 'H,,S,', 'value': 103}, {'date': '2022-10-05T00:00:00', 'datatype': 'TAVG', 'station': 'GHCND:USW00014732', 'attributes': 'H,,S,', 'value': 138}, {'date': '2022-10-06T00:00:00', 'datatype': 'TAVG', 'station': 'GHCND:USW00014732', 'attributes': 'H,,S,', 'value': 176}, {'date': '2022-10-07T00:00:00', 'datatype': 'TAVG', 'station': 'GHCND:USW00014732', 'attributes': 'H,,S,', 'value': 203}, {'date': '2022-10-08T00:00:00', 'datatype': 'TAVG', 'station': 'GHCND:USW00014732', 'attributes': 'H,,S,', 'value': 139}, {'date': '2022-10-09T00:00:00', 'datatype': 'TAVG', 'station': 'GHCND:USW00014732', 'attributes': 'H,,S,', 'value': 123}, {'date': '2022-10-10T00:00:00', 'datatype': 'TAVG', 'station': 'GHCND:USW00014732', 'attributes': 'H,,S,', 'value': 158}, {'date': '2022-10-11T00:00:00', 'datatype': 'TAVG', 'station': 'GHCND:USW00014732', 'attributes': 'H,,S,', 'value': 170}, {'date': '2022-10-12T00:00:00', 'datatype': 'TAVG', 'station': 'GHCND:USW00014732', 'attributes': 'H,,S,', 'value': 179}, {'date': '2022-10-13T00:00:00', 'datatype': 'TAVG', 'station': 'GHCND:USW00014732', 'attributes': 'H,,S,', 'value': 187}, {'date': '2022-10-14T00:00:00', 'datatype': 'TAVG', 'station': 'GHCND:USW00014732', 'attributes': 'H,,S,', 'value': 157}, {'date': '2022-10-15T00:00:00', 'datatype': 'TAVG', 'station': 'GHCND:USW00014732', 'attributes': 'H,,S,', 'value': 162}, {'date': '2022-10-16T00:00:00', 'datatype': 'TAVG', 'station': 'GHCND:USW00014732', 'attributes': 'H,,S,', 'value': 161}, {'date': '2022-10-17T00:00:00', 'datatype': 'TAVG', 'station': 'GHCND:USW00014732', 'attributes': 'H,,S,', 'value': 166}, {'date': '2022-10-18T00:00:00', 'datatype': 'TAVG', 'station': 'GHCND:USW00014732', 'attributes': 'H,,S,', 'value': 126}, {'date': '2022-10-19T00:00:00', 'datatype': 'TAVG', 'station': 'GHCND:USW00014732', 'attributes': 'H,,S,', 'value': 100}, {'date': '2022-10-20T00:00:00', 'datatype': 'TAVG', 'station': 'GHCND:USW00014732', 'attributes': 'H,,S,', 'value': 111}, {'date': '2022-10-21T00:00:00', 'datatype': 'TAVG', 'station': 'GHCND:USW00014732', 'attributes': 'H,,S,', 'value': 134}, {'date': '2022-10-22T00:00:00', 'datatype': 'TAVG', 'station': 'GHCND:USW00014732', 'attributes': 'H,,S,', 'value': 144}, {'date': '2022-10-23T00:00:00', 'datatype': 'TAVG', 'station': 'GHCND:USW00014732', 'attributes': 'H,,S,', 'value': 147}, {'date': '2022-10-24T00:00:00', 'datatype': 'TAVG', 'station': 'GHCND:USW00014732', 'attributes': 'H,,S,', 'value': 141}, {'date': '2022-10-25T00:00:00', 'datatype': 'TAVG', 'station': 'GHCND:USW00014732', 'attributes': 'H,,S,', 'value': 169}, {'date': '2022-10-26T00:00:00', 'datatype': 'TAVG', 'station': 'GHCND:USW00014732', 'attributes': 'H,,S,', 'value': 183}, {'date': '2022-10-27T00:00:00', 'datatype': 'TAVG', 'station': 'GHCND:USW00014732', 'attributes': 'H,,S,', 'value': 169}, {'date': '2022-10-28T00:00:00', 'datatype': 'TAVG', 'station': 'GHCND:USW00014732', 'attributes': 'H,,S,', 'value': 113}, {'date': '2022-10-29T00:00:00', 'datatype': 'TAVG', 'station': 'GHCND:USW00014732', 'attributes': 'H,,S,', 'value': 108}, {'date': '2022-10-30T00:00:00', 'datatype': 'TAVG', 'station': 'GHCND:USW00014732', 'attributes': 'H,,S,', 'value': 125}, {'date': '2022-10-31T00:00:00', 'datatype': 'TAVG', 'station': 'GHCND:USW00014732', 'attributes': 'H,,S,', 'value': 144}, {'date': '2022-11-01T00:00:00', 'datatype': 'TAVG', 'station': 'GHCND:USW00014732', 'attributes': 'H,,S,', 'value': 169}, {'date': '2022-11-02T00:00:00', 'datatype': 'TAVG', 'station': 'GHCND:USW00014732', 'attributes': 'H,,S,', 'value': 176}, {'date': '2022-11-03T00:00:00', 'datatype': 'TAVG', 'station': 'GHCND:USW00014732', 'attributes': 'H,,S,', 'value': 157}, {'date': '2022-11-04T00:00:00', 'datatype': 'TAVG', 'station': 'GHCND:USW00014732', 'attributes': 'H,,S,', 'value': 152}, {'date': '2022-11-05T00:00:00', 'datatype': 'TAVG', 'station': 'GHCND:USW00014732', 'attributes': 'H,,S,', 'value': 194}, {'date': '2022-11-06T00:00:00', 'datatype': 'TAVG', 'station': 'GHCND:USW00014732', 'attributes': 'H,,S,', 'value': 198}, {'date': '2022-11-07T00:00:00', 'datatype': 'TAVG', 'station': 'GHCND:USW00014732', 'attributes': 'H,,S,', 'value': 213}, {'date': '2022-11-08T00:00:00', 'datatype': 'TAVG', 'station': 'GHCND:USW00014732', 'attributes': 'H,,S,', 'value': 132}, {'date': '2022-11-09T00:00:00', 'datatype': 'TAVG', 'station': 'GHCND:USW00014732', 'attributes': 'H,,S,', 'value': 87}, {'date': '2022-11-10T00:00:00', 'datatype': 'TAVG', 'station': 'GHCND:USW00014732', 'attributes': 'H,,S,', 'value': 126}, {'date': '2022-11-11T00:00:00', 'datatype': 'TAVG', 'station': 'GHCND:USW00014732', 'attributes': 'H,,S,', 'value': 164}, {'date': '2022-11-12T00:00:00', 'datatype': 'TAVG', 'station': 'GHCND:USW00014732', 'attributes': 'H,,S,', 'value': 197}, {'date': '2022-11-13T00:00:00', 'datatype': 'TAVG', 'station': 'GHCND:USW00014732', 'attributes': 'H,,S,', 'value': 129}, {'date': '2022-11-14T00:00:00', 'datatype': 'TAVG', 'station': 'GHCND:USW00014732', 'attributes': 'H,,S,', 'value': 63}, {'date': '2022-11-15T00:00:00', 'datatype': 'TAVG', 'station': 'GHCND:USW00014732', 'attributes': 'H,,S,', 'value': 49}, {'date': '2022-11-16T00:00:00', 'datatype': 'TAVG', 'station': 'GHCND:USW00014732', 'attributes': 'H,,S,', 'value': 73}, {'date': '2022-11-17T00:00:00', 'datatype': 'TAVG', 'station': 'GHCND:USW00014732', 'attributes': 'H,,S,', 'value': 57}, {'date': '2022-11-18T00:00:00', 'datatype': 'TAVG', 'station': 'GHCND:USW00014732', 'attributes': 'H,,S,', 'value': 45}, {'date': '2022-11-19T00:00:00', 'datatype': 'TAVG', 'station': 'GHCND:USW00014732', 'attributes': 'H,,S,', 'value': 28}, {'date': '2022-11-20T00:00:00', 'datatype': 'TAVG', 'station': 'GHCND:USW00014732', 'attributes': 'H,,S,', 'value': 27}, {'date': '2022-11-21T00:00:00', 'datatype': 'TAVG', 'station': 'GHCND:USW00014732', 'attributes': 'H,,S,', 'value': 11}, {'date': '2022-11-22T00:00:00', 'datatype': 'TAVG', 'station': 'GHCND:USW00014732', 'attributes': 'H,,S,', 'value': 66}, {'date': '2022-11-23T00:00:00', 'datatype': 'TAVG', 'station': 'GHCND:USW00014732', 'attributes': 'H,,S,', 'value': 94}, {'date': '2022-11-24T00:00:00', 'datatype': 'TAVG', 'station': 'GHCND:USW00014732', 'attributes': 'H,,S,', 'value': 81}, {'date': '2022-11-25T00:00:00', 'datatype': 'TAVG', 'station': 'GHCND:USW00014732', 'attributes': 'H,,S,', 'value': 100}, {'date': '2022-11-26T00:00:00', 'datatype': 'TAVG', 'station': 'GHCND:USW00014732', 'attributes': 'H,,S,', 'value': 93}, {'date': '2022-11-27T00:00:00', 'datatype': 'TAVG', 'station': 'GHCND:USW00014732', 'attributes': 'H,,S,', 'value': 107}, {'date': '2022-11-28T00:00:00', 'datatype': 'TAVG', 'station': 'GHCND:USW00014732', 'attributes': 'H,,S,', 'value': 122}, {'date': '2022-11-29T00:00:00', 'datatype': 'TAVG', 'station': 'GHCND:USW00014732', 'attributes': 'H,,S,', 'value': 54}, {'date': '2022-11-30T00:00:00', 'datatype': 'TAVG', 'station': 'GHCND:USW00014732', 'attributes': 'H,,S,', 'value': 84}, {'date': '2022-12-01T00:00:00', 'datatype': 'TAVG', 'station': 'GHCND:USW00014732', 'attributes': 'H,,S,', 'value': 57}, {'date': '2022-12-02T00:00:00', 'datatype': 'TAVG', 'station': 'GHCND:USW00014732', 'attributes': 'H,,S,', 'value': 34}, {'date': '2022-12-03T00:00:00', 'datatype': 'TAVG', 'station': 'GHCND:USW00014732', 'attributes': 'H,,S,', 'value': 106}, {'date': '2022-12-04T00:00:00', 'datatype': 'TAVG', 'station': 'GHCND:USW00014732', 'attributes': 'H,,S,', 'value': 70}, {'date': '2022-12-05T00:00:00', 'datatype': 'TAVG', 'station': 'GHCND:USW00014732', 'attributes': 'H,,S,', 'value': 54}, {'date': '2022-12-06T00:00:00', 'datatype': 'TAVG', 'station': 'GHCND:USW00014732', 'attributes': 'H,,S,', 'value': 93}, {'date': '2022-12-07T00:00:00', 'datatype': 'TAVG', 'station': 'GHCND:USW00014732', 'attributes': 'H,,S,', 'value': 138}, {'date': '2022-12-08T00:00:00', 'datatype': 'TAVG', 'station': 'GHCND:USW00014732', 'attributes': 'H,,S,', 'value': 116}, {'date': '2022-12-09T00:00:00', 'datatype': 'TAVG', 'station': 'GHCND:USW00014732', 'attributes': 'H,,S,', 'value': 53}, {'date': '2022-12-10T00:00:00', 'datatype': 'TAVG', 'station': 'GHCND:USW00014732', 'attributes': 'H,,S,', 'value': 22}, {'date': '2022-12-11T00:00:00', 'datatype': 'TAVG', 'station': 'GHCND:USW00014732', 'attributes': 'H,,S,', 'value': 34}, {'date': '2022-12-12T00:00:00', 'datatype': 'TAVG', 'station': 'GHCND:USW00014732', 'attributes': 'H,,S,', 'value': 16}, {'date': '2022-12-13T00:00:00', 'datatype': 'TAVG', 'station': 'GHCND:USW00014732', 'attributes': 'H,,S,', 'value': 3}, {'date': '2022-12-14T00:00:00', 'datatype': 'TAVG', 'station': 'GHCND:USW00014732', 'attributes': 'H,,S,', 'value': 17}, {'date': '2022-12-15T00:00:00', 'datatype': 'TAVG', 'station': 'GHCND:USW00014732', 'attributes': 'H,,S,', 'value': 27}, {'date': '2022-12-16T00:00:00', 'datatype': 'TAVG', 'station': 'GHCND:USW00014732', 'attributes': 'H,,S,', 'value': 62}, {'date': '2022-12-17T00:00:00', 'datatype': 'TAVG', 'station': 'GHCND:USW00014732', 'attributes': 'H,,S,', 'value': 50}, {'date': '2022-12-18T00:00:00', 'datatype': 'TAVG', 'station': 'GHCND:USW00014732', 'attributes': 'H,,S,', 'value': 31}, {'date': '2022-12-19T00:00:00', 'datatype': 'TAVG', 'station': 'GHCND:USW00014732', 'attributes': 'H,,S,', 'value': 17}, {'date': '2022-12-20T00:00:00', 'datatype': 'TAVG', 'station': 'GHCND:USW00014732', 'attributes': 'H,,S,', 'value': 19}, {'date': '2022-12-21T00:00:00', 'datatype': 'TAVG', 'station': 'GHCND:USW00014732', 'attributes': 'H,,S,', 'value': 10}, {'date': '2022-12-22T00:00:00', 'datatype': 'TAVG', 'station': 'GHCND:USW00014732', 'attributes': 'H,,S,', 'value': 38}, {'date': '2022-12-23T00:00:00', 'datatype': 'TAVG', 'station': 'GHCND:USW00014732', 'attributes': 'H,,S,', 'value': 75}, {'date': '2022-12-24T00:00:00', 'datatype': 'TAVG', 'station': 'GHCND:USW00014732', 'attributes': 'H,,S,', 'value': -117}, {'date': '2022-12-25T00:00:00', 'datatype': 'TAVG', 'station': 'GHCND:USW00014732', 'attributes': 'H,,S,', 'value': -69}, {'date': '2022-12-26T00:00:00', 'datatype': 'TAVG', 'station': 'GHCND:USW00014732', 'attributes': 'H,,S,', 'value': -47}, {'date': '2022-12-27T00:00:00', 'datatype': 'TAVG', 'station': 'GHCND:USW00014732', 'attributes': 'H,,S,', 'value': -7}, {'date': '2022-12-28T00:00:00', 'datatype': 'TAVG', 'station': 'GHCND:USW00014732', 'attributes': 'H,,S,', 'value': 34}, {'date': '2022-12-29T00:00:00', 'datatype': 'TAVG', 'station': 'GHCND:USW00014732', 'attributes': 'H,,S,', 'value': 64}, {'date': '2022-12-30T00:00:00', 'datatype': 'TAVG', 'station': 'GHCND:USW00014732', 'attributes': 'H,,S,', 'value': 93}, {'date': '2022-12-31T00:00:00', 'datatype': 'TAVG', 'station': 'GHCND:USW00014732', 'attributes': 'H,,S,', 'value': 82}]}\n"
     ]
    }
   ],
   "source": [
    "import ast\n",
    "\n",
    "# Open the file and read its content\n",
    "with open(r'Data/temp_data.txt', 'r') as file:\n",
    "    data = file.read()\n",
    "\n",
    "# Convert the string to a dictionary\n",
    "d = ast.literal_eval(data)\n",
    "\n",
    "print(d)"
   ]
  },
  {
   "cell_type": "code",
   "execution_count": 8,
   "id": "8a9268ea-269d-4a9a-b98c-9d41e505bccc",
   "metadata": {},
   "outputs": [],
   "source": [
    "# Secure all items in the response that correspond to TAVG\n",
    "\n",
    "avg_temps = [item for item in d['results'] if item['datatype']=='TAVG']"
   ]
  },
  {
   "cell_type": "code",
   "execution_count": 9,
   "id": "d32cc38b-76e0-41dd-ac62-24c0f501f40f",
   "metadata": {},
   "outputs": [],
   "source": [
    "# Get only the date field from all average temperature readings\n",
    "\n",
    "dates_temp = [item['date'] for item in avg_temps]"
   ]
  },
  {
   "cell_type": "code",
   "execution_count": 10,
   "id": "188eca6d-a43f-4c9a-aaa4-daa7ed98a6c6",
   "metadata": {},
   "outputs": [],
   "source": [
    "# Get the temperature from all average temperature readings\n",
    "\n",
    "temps = [item['value'] for item in avg_temps]"
   ]
  },
  {
   "cell_type": "code",
   "execution_count": 11,
   "id": "215bfb51-40e9-49a4-bfbd-c677fac95a16",
   "metadata": {},
   "outputs": [],
   "source": [
    "# Put the results in a dataframe\n",
    "\n",
    "df_temps = pd.DataFrame()"
   ]
  },
  {
   "cell_type": "code",
   "execution_count": 12,
   "id": "2814273b-316d-4fe8-9880-e5cd7e40e2ab",
   "metadata": {},
   "outputs": [],
   "source": [
    "# Get only date and case it to date time; convert temperature from tenths of celsius to normal celsius\n",
    "\n",
    "df_temps['date'] = [datetime.strptime(d, \"%Y-%m-%dT%H:%M:%S\") for d in dates_temp] \n",
    "df_temps['avgTemp'] = [float(v)/10.0 for v in temps]"
   ]
  },
  {
   "cell_type": "code",
   "execution_count": 13,
   "id": "3cb0e8df-9b95-4236-840f-2329f3e8b956",
   "metadata": {},
   "outputs": [
    {
     "data": {
      "text/html": [
       "<div>\n",
       "<style scoped>\n",
       "    .dataframe tbody tr th:only-of-type {\n",
       "        vertical-align: middle;\n",
       "    }\n",
       "\n",
       "    .dataframe tbody tr th {\n",
       "        vertical-align: top;\n",
       "    }\n",
       "\n",
       "    .dataframe thead th {\n",
       "        text-align: right;\n",
       "    }\n",
       "</style>\n",
       "<table border=\"1\" class=\"dataframe\">\n",
       "  <thead>\n",
       "    <tr style=\"text-align: right;\">\n",
       "      <th></th>\n",
       "      <th>date</th>\n",
       "      <th>avgTemp</th>\n",
       "    </tr>\n",
       "  </thead>\n",
       "  <tbody>\n",
       "    <tr>\n",
       "      <th>360</th>\n",
       "      <td>2022-12-27</td>\n",
       "      <td>-0.7</td>\n",
       "    </tr>\n",
       "    <tr>\n",
       "      <th>361</th>\n",
       "      <td>2022-12-28</td>\n",
       "      <td>3.4</td>\n",
       "    </tr>\n",
       "    <tr>\n",
       "      <th>362</th>\n",
       "      <td>2022-12-29</td>\n",
       "      <td>6.4</td>\n",
       "    </tr>\n",
       "    <tr>\n",
       "      <th>363</th>\n",
       "      <td>2022-12-30</td>\n",
       "      <td>9.3</td>\n",
       "    </tr>\n",
       "    <tr>\n",
       "      <th>364</th>\n",
       "      <td>2022-12-31</td>\n",
       "      <td>8.2</td>\n",
       "    </tr>\n",
       "  </tbody>\n",
       "</table>\n",
       "</div>"
      ],
      "text/plain": [
       "          date  avgTemp\n",
       "360 2022-12-27     -0.7\n",
       "361 2022-12-28      3.4\n",
       "362 2022-12-29      6.4\n",
       "363 2022-12-30      9.3\n",
       "364 2022-12-31      8.2"
      ]
     },
     "execution_count": 13,
     "metadata": {},
     "output_type": "execute_result"
    }
   ],
   "source": [
    "df_temps.tail()"
   ]
  },
  {
   "cell_type": "code",
   "execution_count": 14,
   "id": "e1305120-eb01-4e85-b8bb-52f8b499a028",
   "metadata": {},
   "outputs": [
    {
     "data": {
      "text/html": [
       "<div>\n",
       "<style scoped>\n",
       "    .dataframe tbody tr th:only-of-type {\n",
       "        vertical-align: middle;\n",
       "    }\n",
       "\n",
       "    .dataframe tbody tr th {\n",
       "        vertical-align: top;\n",
       "    }\n",
       "\n",
       "    .dataframe thead th {\n",
       "        text-align: right;\n",
       "    }\n",
       "</style>\n",
       "<table border=\"1\" class=\"dataframe\">\n",
       "  <thead>\n",
       "    <tr style=\"text-align: right;\">\n",
       "      <th></th>\n",
       "      <th>date</th>\n",
       "      <th>avgTemp</th>\n",
       "    </tr>\n",
       "  </thead>\n",
       "  <tbody>\n",
       "    <tr>\n",
       "      <th>0</th>\n",
       "      <td>2022-01-01</td>\n",
       "      <td>11.6</td>\n",
       "    </tr>\n",
       "    <tr>\n",
       "      <th>1</th>\n",
       "      <td>2022-01-02</td>\n",
       "      <td>11.4</td>\n",
       "    </tr>\n",
       "    <tr>\n",
       "      <th>2</th>\n",
       "      <td>2022-01-03</td>\n",
       "      <td>1.4</td>\n",
       "    </tr>\n",
       "    <tr>\n",
       "      <th>3</th>\n",
       "      <td>2022-01-04</td>\n",
       "      <td>-2.7</td>\n",
       "    </tr>\n",
       "    <tr>\n",
       "      <th>4</th>\n",
       "      <td>2022-01-05</td>\n",
       "      <td>3.2</td>\n",
       "    </tr>\n",
       "  </tbody>\n",
       "</table>\n",
       "</div>"
      ],
      "text/plain": [
       "        date  avgTemp\n",
       "0 2022-01-01     11.6\n",
       "1 2022-01-02     11.4\n",
       "2 2022-01-03      1.4\n",
       "3 2022-01-04     -2.7\n",
       "4 2022-01-05      3.2"
      ]
     },
     "execution_count": 14,
     "metadata": {},
     "output_type": "execute_result"
    }
   ],
   "source": [
    "df_temps.head()"
   ]
  },
  {
   "cell_type": "code",
   "execution_count": 16,
   "id": "6c5cd079-9b54-4567-9f9f-2d0f6b507408",
   "metadata": {},
   "outputs": [
    {
     "data": {
      "text/html": [
       "<div>\n",
       "<style scoped>\n",
       "    .dataframe tbody tr th:only-of-type {\n",
       "        vertical-align: middle;\n",
       "    }\n",
       "\n",
       "    .dataframe tbody tr th {\n",
       "        vertical-align: top;\n",
       "    }\n",
       "\n",
       "    .dataframe thead th {\n",
       "        text-align: right;\n",
       "    }\n",
       "</style>\n",
       "<table border=\"1\" class=\"dataframe\">\n",
       "  <thead>\n",
       "    <tr style=\"text-align: right;\">\n",
       "      <th></th>\n",
       "      <th>ride_id</th>\n",
       "      <th>rideable_type</th>\n",
       "      <th>started_at</th>\n",
       "      <th>ended_at</th>\n",
       "      <th>start_station_name</th>\n",
       "      <th>start_station_id</th>\n",
       "      <th>end_station_name</th>\n",
       "      <th>end_station_id</th>\n",
       "      <th>start_lat</th>\n",
       "      <th>start_lng</th>\n",
       "      <th>end_lat</th>\n",
       "      <th>end_lng</th>\n",
       "      <th>member_casual</th>\n",
       "    </tr>\n",
       "  </thead>\n",
       "  <tbody>\n",
       "    <tr>\n",
       "      <th>17808863</th>\n",
       "      <td>4E9E2DE0B3699349</td>\n",
       "      <td>electric_bike</td>\n",
       "      <td>2022-08-11 09:20:36.833</td>\n",
       "      <td>2022-08-11 09:39:29.381</td>\n",
       "      <td>6 Ave &amp; Canal St</td>\n",
       "      <td>5500.07</td>\n",
       "      <td>Sharon St &amp; Olive St</td>\n",
       "      <td>5323.06</td>\n",
       "      <td>40.722377</td>\n",
       "      <td>-74.005719</td>\n",
       "      <td>40.715342</td>\n",
       "      <td>-73.938651</td>\n",
       "      <td>member</td>\n",
       "    </tr>\n",
       "    <tr>\n",
       "      <th>25000592</th>\n",
       "      <td>3B404818EF3DD6F5</td>\n",
       "      <td>electric_bike</td>\n",
       "      <td>2022-10-30 14:30:13.301</td>\n",
       "      <td>2022-10-30 14:35:22.363</td>\n",
       "      <td>Broadway &amp; E 14 St</td>\n",
       "      <td>5905.12</td>\n",
       "      <td>1 Ave &amp; E 18 St</td>\n",
       "      <td>5854.09</td>\n",
       "      <td>40.734546</td>\n",
       "      <td>-73.990741</td>\n",
       "      <td>40.733812</td>\n",
       "      <td>-73.980544</td>\n",
       "      <td>member</td>\n",
       "    </tr>\n",
       "    <tr>\n",
       "      <th>8501098</th>\n",
       "      <td>4E04E1A1EE7BD3DA</td>\n",
       "      <td>electric_bike</td>\n",
       "      <td>2022-05-24 17:47:27.559</td>\n",
       "      <td>2022-05-24 18:01:47.374</td>\n",
       "      <td>Lexington Ave &amp; E 24 St</td>\n",
       "      <td>6089.07</td>\n",
       "      <td>Allen St &amp; Hester St</td>\n",
       "      <td>5342.1</td>\n",
       "      <td>40.740268</td>\n",
       "      <td>-73.984154</td>\n",
       "      <td>40.716059</td>\n",
       "      <td>-73.991908</td>\n",
       "      <td>member</td>\n",
       "    </tr>\n",
       "    <tr>\n",
       "      <th>18682493</th>\n",
       "      <td>6ABCD25EB30C6E34</td>\n",
       "      <td>electric_bike</td>\n",
       "      <td>2022-08-03 10:06:39.288</td>\n",
       "      <td>2022-08-03 10:09:25.145</td>\n",
       "      <td>E 20 St &amp; Park Ave</td>\n",
       "      <td>6055.08</td>\n",
       "      <td>W 13 St &amp; 5 Ave</td>\n",
       "      <td>5947.04</td>\n",
       "      <td>40.738274</td>\n",
       "      <td>-73.987520</td>\n",
       "      <td>40.735445</td>\n",
       "      <td>-73.994310</td>\n",
       "      <td>member</td>\n",
       "    </tr>\n",
       "    <tr>\n",
       "      <th>15540186</th>\n",
       "      <td>19111D75A2D038E7</td>\n",
       "      <td>classic_bike</td>\n",
       "      <td>2022-07-14 07:22:47.005</td>\n",
       "      <td>2022-07-14 07:49:30.182</td>\n",
       "      <td>W 67 St &amp; Broadway</td>\n",
       "      <td>7116.04</td>\n",
       "      <td>E 56 St &amp; Madison Ave</td>\n",
       "      <td>6732.01</td>\n",
       "      <td>40.774925</td>\n",
       "      <td>-73.982666</td>\n",
       "      <td>40.761573</td>\n",
       "      <td>-73.972628</td>\n",
       "      <td>member</td>\n",
       "    </tr>\n",
       "  </tbody>\n",
       "</table>\n",
       "</div>"
      ],
      "text/plain": [
       "                   ride_id  rideable_type               started_at  \\\n",
       "17808863  4E9E2DE0B3699349  electric_bike  2022-08-11 09:20:36.833   \n",
       "25000592  3B404818EF3DD6F5  electric_bike  2022-10-30 14:30:13.301   \n",
       "8501098   4E04E1A1EE7BD3DA  electric_bike  2022-05-24 17:47:27.559   \n",
       "18682493  6ABCD25EB30C6E34  electric_bike  2022-08-03 10:06:39.288   \n",
       "15540186  19111D75A2D038E7   classic_bike  2022-07-14 07:22:47.005   \n",
       "\n",
       "                         ended_at       start_station_name start_station_id  \\\n",
       "17808863  2022-08-11 09:39:29.381         6 Ave & Canal St          5500.07   \n",
       "25000592  2022-10-30 14:35:22.363       Broadway & E 14 St          5905.12   \n",
       "8501098   2022-05-24 18:01:47.374  Lexington Ave & E 24 St          6089.07   \n",
       "18682493  2022-08-03 10:09:25.145       E 20 St & Park Ave          6055.08   \n",
       "15540186  2022-07-14 07:49:30.182       W 67 St & Broadway          7116.04   \n",
       "\n",
       "               end_station_name end_station_id  start_lat  start_lng  \\\n",
       "17808863   Sharon St & Olive St        5323.06  40.722377 -74.005719   \n",
       "25000592        1 Ave & E 18 St        5854.09  40.734546 -73.990741   \n",
       "8501098    Allen St & Hester St         5342.1  40.740268 -73.984154   \n",
       "18682493        W 13 St & 5 Ave        5947.04  40.738274 -73.987520   \n",
       "15540186  E 56 St & Madison Ave        6732.01  40.774925 -73.982666   \n",
       "\n",
       "            end_lat    end_lng member_casual  \n",
       "17808863  40.715342 -73.938651        member  \n",
       "25000592  40.733812 -73.980544        member  \n",
       "8501098   40.716059 -73.991908        member  \n",
       "18682493  40.735445 -73.994310        member  \n",
       "15540186  40.761573 -73.972628        member  "
      ]
     },
     "execution_count": 16,
     "metadata": {},
     "output_type": "execute_result"
    }
   ],
   "source": [
    "df.head()"
   ]
  },
  {
   "cell_type": "code",
   "execution_count": 18,
   "id": "0dcae314-e84a-42c1-8c28-b6b3a2648baf",
   "metadata": {},
   "outputs": [],
   "source": [
    "df['started_at'] = pd.to_datetime(df['started_at'])\n",
    "df['date'] = pd.to_datetime(df['started_at'], format='%Y-%m-%d').dt.date "
   ]
  },
  {
   "cell_type": "code",
   "execution_count": 22,
   "id": "7e2351fd-ec46-475e-a50c-45a190beff3b",
   "metadata": {},
   "outputs": [],
   "source": [
    "df_temps['date'] = pd.to_datetime(df_temps['date'])"
   ]
  },
  {
   "cell_type": "code",
   "execution_count": 25,
   "id": "d00b5855-34e8-4529-9a36-bbc45367f211",
   "metadata": {},
   "outputs": [],
   "source": [
    "df['date'] = pd.to_datetime(df['date'])"
   ]
  },
  {
   "cell_type": "code",
   "execution_count": 26,
   "id": "b3466611-ba4a-4ea1-b1ed-d136288b4086",
   "metadata": {},
   "outputs": [
    {
     "data": {
      "text/plain": [
       "ride_id                       object\n",
       "rideable_type                 object\n",
       "started_at            datetime64[ns]\n",
       "ended_at                      object\n",
       "start_station_name            object\n",
       "start_station_id              object\n",
       "end_station_name              object\n",
       "end_station_id                object\n",
       "start_lat                    float64\n",
       "start_lng                    float64\n",
       "end_lat                      float64\n",
       "end_lng                      float64\n",
       "member_casual                 object\n",
       "date                  datetime64[ns]\n",
       "dtype: object"
      ]
     },
     "execution_count": 26,
     "metadata": {},
     "output_type": "execute_result"
    }
   ],
   "source": [
    "df.dtypes"
   ]
  },
  {
   "cell_type": "code",
   "execution_count": 27,
   "id": "a462347c-b1c3-482a-a2b8-060a4135e241",
   "metadata": {},
   "outputs": [
    {
     "name": "stdout",
     "output_type": "stream",
     "text": [
      "CPU times: total: 36.8 s\n",
      "Wall time: 2min 6s\n"
     ]
    }
   ],
   "source": [
    "%%time\n",
    "df_merged = df.merge(df_temps, how = 'left', on = 'date', indicator = True) "
   ]
  },
  {
   "cell_type": "code",
   "execution_count": 28,
   "id": "36ff762d-65b1-4966-afc2-d1003cfa6841",
   "metadata": {},
   "outputs": [
    {
     "data": {
      "text/plain": [
       "_merge\n",
       "both          298384\n",
       "left_only          4\n",
       "right_only         0\n",
       "Name: count, dtype: int64"
      ]
     },
     "execution_count": 28,
     "metadata": {},
     "output_type": "execute_result"
    }
   ],
   "source": [
    "df_merged['_merge'].value_counts(dropna = False)"
   ]
  },
  {
   "cell_type": "code",
   "execution_count": 29,
   "id": "1cf17269-2c06-49ec-ad95-560da96222d2",
   "metadata": {},
   "outputs": [],
   "source": [
    "df_merged.to_csv(\"data_sample_temps.csv\")"
   ]
  },
  {
   "cell_type": "code",
   "execution_count": null,
   "id": "996ea2c4-718e-4bfb-bb1f-61ca519219c4",
   "metadata": {},
   "outputs": [],
   "source": []
  }
 ],
 "metadata": {
  "kernelspec": {
   "display_name": "Python 3 (ipykernel)",
   "language": "python",
   "name": "python3"
  },
  "language_info": {
   "codemirror_mode": {
    "name": "ipython",
    "version": 3
   },
   "file_extension": ".py",
   "mimetype": "text/x-python",
   "name": "python",
   "nbconvert_exporter": "python",
   "pygments_lexer": "ipython3",
   "version": "3.11.0"
  }
 },
 "nbformat": 4,
 "nbformat_minor": 5
}
